{
  "cells": [
    {
      "cell_type": "markdown",
      "metadata": {
        "id": "view-in-github",
        "colab_type": "text"
      },
      "source": [
        "<a href=\"https://colab.research.google.com/github/czz1997/EECE571T/blob/master/EECE571T.ipynb\" target=\"_parent\"><img src=\"https://colab.research.google.com/assets/colab-badge.svg\" alt=\"Open In Colab\"/></a>"
      ]
    },
    {
      "cell_type": "markdown",
      "metadata": {
        "id": "3meg2hR_BHwH"
      },
      "source": [
        "# **Environment Setup**"
      ]
    },
    {
      "cell_type": "markdown",
      "metadata": {
        "id": "KxeVlXuaDEfR"
      },
      "source": [
        "### Code & Dependencies"
      ]
    },
    {
      "cell_type": "code",
      "execution_count": null,
      "metadata": {
        "id": "EoAJapRcDG6J"
      },
      "outputs": [],
      "source": [
        "!pip install dominate\n",
        "!pip install piq\n",
        "!pip install pytorch-fid\n",
        "\n",
        "# Load the TensorBoard notebook extension\n",
        "%load_ext tensorboard\n",
        "\n",
        "!git clone https://github.com/czz1997/EECE571T.git"
      ]
    },
    {
      "cell_type": "markdown",
      "metadata": {
        "id": "3EBKGanhC2-_"
      },
      "source": [
        "### Google Drive"
      ]
    },
    {
      "cell_type": "code",
      "execution_count": null,
      "metadata": {
        "id": "2gKptT4xCsYO"
      },
      "outputs": [],
      "source": [
        "from google.colab import drive\n",
        "import os\n",
        "import shutil\n",
        "drive.mount(\"/content/drive\", force_remount=True)"
      ]
    },
    {
      "cell_type": "markdown",
      "metadata": {
        "id": "Oh3nSbzkDUXG"
      },
      "source": [
        "# **Dataset Preparation**"
      ]
    },
    {
      "cell_type": "markdown",
      "metadata": {
        "id": "bJnJ2SzRDjWZ"
      },
      "source": [
        "### Directories & Soft link"
      ]
    },
    {
      "cell_type": "code",
      "execution_count": null,
      "metadata": {
        "id": "TY8M9I3WDWCk"
      },
      "outputs": [],
      "source": [
        "!rm -rf sample_data\n",
        "!mkdir /content/datasets  # dataset root\n",
        "!mkdir /content/EECE571T/datasets\n",
        "!ln -s /content/datasets /content/EECE571T/datasets # soft link"
      ]
    },
    {
      "cell_type": "markdown",
      "metadata": {
        "id": "os20BJnUDz8e"
      },
      "source": [
        "### Extract"
      ]
    },
    {
      "cell_type": "code",
      "execution_count": null,
      "metadata": {
        "id": "fJffupMxDppC"
      },
      "outputs": [],
      "source": [
        "import os\n",
        "!mkdir /content/datasets/temp\n",
        "!unzip -q /content/drive/MyDrive/GT-RAIN_train.zip -d /content/datasets/temp/\n",
        "!unzip -q /content/drive/MyDrive/GT-RAIN_val.zip -d /content/datasets/temp/\n",
        "!unzip -q /content/drive/MyDrive/GT-RAIN_test.zip -d /content/datasets/temp/"
      ]
    },
    {
      "cell_type": "markdown",
      "metadata": {
        "id": "nFsFNCJcI7VQ"
      },
      "source": [
        "### Reorganize"
      ]
    },
    {
      "cell_type": "code",
      "execution_count": null,
      "metadata": {
        "id": "WHVzLSddP8Jh"
      },
      "outputs": [],
      "source": [
        "import re\n",
        "sourceImgPath = r\"datasets/temp/GT-RAIN_train\"\n",
        "destRainImgPath = r\"datasets/GT-RAIN/trainA/\"\n",
        "destCleanImgPath = r\"datasets/GT-RAIN/trainB/\"\n",
        "for scenesFolder in os.listdir(sourceImgPath):\n",
        "    destCleanSceneFolder = os.path.join(destCleanImgPath,scenesFolder)\n",
        "    if not os.path.exists(destCleanSceneFolder):\n",
        "        os.makedirs(destCleanSceneFolder)\n",
        "    destRainSceneFolder = os.path.join(destRainImgPath,scenesFolder)\n",
        "    if not os.path.exists(destRainSceneFolder):\n",
        "        os.makedirs(destRainSceneFolder)\n",
        "\n",
        "    for img in os.listdir(os.path.join(sourceImgPath, scenesFolder)):\n",
        "        if re.search(r'.*C-\\d{3}$', os.path.splitext(img)[0]):\n",
        "          shutil.move(os.path.join(sourceImgPath, scenesFolder, img), os.path.join(destCleanSceneFolder, img))\n",
        "        if re.search(r'.*R-\\d{3}$', os.path.splitext(img)[0]):\n",
        "          shutil.move(os.path.join(sourceImgPath, scenesFolder, img), os.path.join(destRainSceneFolder, img))"
      ]
    },
    {
      "cell_type": "code",
      "execution_count": null,
      "metadata": {
        "id": "Syb0Tm9wrFIo"
      },
      "outputs": [],
      "source": [
        "sourceImgPath = r\"datasets/temp/GT-RAIN_val\"\n",
        "destRainImgPath = r\"datasets/GT-RAIN/valA/\"\n",
        "destCleanImgPath = r\"datasets/GT-RAIN/valB/\"\n",
        "for scenesFolder in os.listdir(sourceImgPath):\n",
        "    destCleanSceneFolder = os.path.join(destCleanImgPath,scenesFolder)\n",
        "    if not os.path.exists(destCleanSceneFolder):\n",
        "        os.makedirs(destCleanSceneFolder)\n",
        "    destRainSceneFolder = os.path.join(destRainImgPath,scenesFolder)\n",
        "    if not os.path.exists(destRainSceneFolder):\n",
        "        os.makedirs(destRainSceneFolder)\n",
        "\n",
        "    for img in os.listdir(os.path.join(sourceImgPath, scenesFolder)):\n",
        "        if re.search(r'.*C-\\d{3}$', os.path.splitext(img)[0]):\n",
        "          shutil.move(os.path.join(sourceImgPath, scenesFolder, img), os.path.join(destCleanSceneFolder, img))\n",
        "        if re.search(r'.*R-\\d{3}$', os.path.splitext(img)[0]):\n",
        "          shutil.move(os.path.join(sourceImgPath, scenesFolder, img), os.path.join(destRainSceneFolder, img))"
      ]
    },
    {
      "cell_type": "code",
      "execution_count": null,
      "metadata": {
        "id": "kxQTr2DZFFgX"
      },
      "outputs": [],
      "source": [
        "sourceImgPath = r\"datasets/temp/GT-RAIN_test\"\n",
        "destRainImgPath = r\"datasets/GT-RAIN/testA/\"\n",
        "destCleanImgPath = r\"datasets/GT-RAIN/testB/\"\n",
        "for scenesFolder in os.listdir(sourceImgPath):\n",
        "    destCleanSceneFolder = os.path.join(destCleanImgPath,scenesFolder)\n",
        "    if not os.path.exists(destCleanSceneFolder):\n",
        "        os.makedirs(destCleanSceneFolder)\n",
        "    destRainSceneFolder = os.path.join(destRainImgPath,scenesFolder)\n",
        "    if not os.path.exists(destRainSceneFolder):\n",
        "        os.makedirs(destRainSceneFolder)\n",
        "\n",
        "    for img in os.listdir(os.path.join(sourceImgPath, scenesFolder)):\n",
        "        if re.search(r'.*C-\\d{3}$', os.path.splitext(img)[0]):\n",
        "          shutil.move(os.path.join(sourceImgPath, scenesFolder, img), os.path.join(destCleanSceneFolder, img))\n",
        "        if re.search(r'.*R-\\d{3}$', os.path.splitext(img)[0]):\n",
        "          shutil.move(os.path.join(sourceImgPath, scenesFolder, img), os.path.join(destRainSceneFolder, img))"
      ]
    },
    {
      "cell_type": "markdown",
      "metadata": {
        "id": "y6CfY-5GF5SU"
      },
      "source": [
        "# **Training**"
      ]
    },
    {
      "cell_type": "markdown",
      "metadata": {
        "id": "nbwLElKqHeAk"
      },
      "source": [
        "### Configure"
      ]
    },
    {
      "cell_type": "code",
      "execution_count": null,
      "metadata": {
        "id": "uaGFWrwmHgWJ"
      },
      "outputs": [],
      "source": [
        "EXP_NAME = \"aug2_l1_01_bs_2_epochs_200_400\""
      ]
    },
    {
      "cell_type": "markdown",
      "metadata": {
        "id": "NbJjzhWis-c-"
      },
      "source": [
        "### tensorboard"
      ]
    },
    {
      "cell_type": "code",
      "execution_count": null,
      "metadata": {
        "id": "-dXTWCjptUny"
      },
      "outputs": [],
      "source": [
        "%tensorboard --logdir runs"
      ]
    },
    {
      "cell_type": "markdown",
      "metadata": {
        "id": "uHz1b4aaIru6"
      },
      "source": [
        "### Train"
      ]
    },
    {
      "cell_type": "code",
      "execution_count": null,
      "metadata": {
        "id": "eoJc1J-cF41R"
      },
      "outputs": [],
      "source": [
        "if not os.path.exists(f\"checkpoints/{EXP_NAME}\"):\n",
        "  os.makedirs(f\"checkpoints/{EXP_NAME}\")\n",
        "!python -W ignore EECE571T/train.py --dataroot ./datasets/GT-RAIN --name {EXP_NAME} --CUT_mode CUT --lambda_SSIM 0.0 | tee checkpoints/{EXP_NAME}/train.txt"
      ]
    },
    {
      "cell_type": "markdown",
      "metadata": {
        "id": "XvWkib37JJgZ"
      },
      "source": [
        "### Save to Drive"
      ]
    },
    {
      "cell_type": "code",
      "execution_count": null,
      "metadata": {
        "id": "4ZjL51rtJNBu"
      },
      "outputs": [],
      "source": [
        "import os\n",
        "if not os.path.exists('drive/MyDrive/CUT_runs/checkpoints'):\n",
        "  os.makedirs('drive/MyDrive/CUT_runs/checkpoints')\n",
        "if not os.path.exists('drive/MyDrive/CUT_runs/runs'):\n",
        "  os.makedirs('drive/MyDrive/CUT_runs/runs')\n",
        "!cp -r checkpoints/{EXP_NAME} drive/MyDrive/CUT_runs/checkpoints/\n",
        "!cp -r runs/{EXP_NAME} drive/MyDrive/CUT_runs/runs/"
      ]
    },
    {
      "cell_type": "markdown",
      "metadata": {
        "id": "H3FGOfPrJN4G"
      },
      "source": [
        "# **Test**"
      ]
    },
    {
      "cell_type": "markdown",
      "metadata": {
        "id": "HNQf6LSDdqf3"
      },
      "source": [
        "### Translate & Save"
      ]
    },
    {
      "cell_type": "code",
      "execution_count": null,
      "metadata": {
        "id": "2Wxl9OP3JRQI"
      },
      "outputs": [],
      "source": [
        "if not os.path.exists(f\"results/{EXP_NAME}\"):\n",
        "  os.makedirs(f\"results/{EXP_NAME}\")\n",
        "!python -W ignore EECE571T/test.py --dataroot ./datasets/GT-RAIN --name {EXP_NAME} --CUT_mode CUT --num_test 5000 | tee results/{EXP_NAME}/test.txt"
      ]
    },
    {
      "cell_type": "markdown",
      "metadata": {
        "id": "jL9JC9o_dtSK"
      },
      "source": [
        "### Compute FID"
      ]
    },
    {
      "cell_type": "code",
      "execution_count": null,
      "metadata": {
        "id": "eNt5NK7U641M"
      },
      "outputs": [],
      "source": [
        "!python -W ignore -m pytorch_fid results/{EXP_NAME}/test_latest/images/real_B results/{EXP_NAME}/test_latest/images/fake_B --device cuda:0 | tee results/{EXP_NAME}/fid.txt"
      ]
    },
    {
      "cell_type": "markdown",
      "metadata": {
        "id": "_EvSfbDWdvNt"
      },
      "source": [
        "### Save to Drive"
      ]
    },
    {
      "cell_type": "code",
      "execution_count": null,
      "metadata": {
        "id": "pMnfoVqNb24t"
      },
      "outputs": [],
      "source": [
        "if not os.path.exists('drive/MyDrive/CUT_runs/results'):\n",
        "  os.makedirs('drive/MyDrive/CUT_runs/results')\n",
        "!cp -r results/{EXP_NAME} drive/MyDrive/CUT_runs/results/"
      ]
    },
    {
      "cell_type": "code",
      "execution_count": null,
      "metadata": {
        "id": "Km20TK3roL1h"
      },
      "outputs": [],
      "source": [
        "if not os.path.exists('drive/MyDrive/CUT_runs/results'):\n",
        "  os.makedirs('drive/MyDrive/CUT_runs/results')\n",
        "!cp -r results/{EXP_NAME} drive/MyDrive/CUT_runs/results/"
      ]
    }
  ],
  "metadata": {
    "accelerator": "GPU",
    "colab": {
      "provenance": [],
      "include_colab_link": true
    },
    "gpuClass": "standard",
    "kernelspec": {
      "display_name": "Python 3",
      "name": "python3"
    },
    "language_info": {
      "name": "python"
    }
  },
  "nbformat": 4,
  "nbformat_minor": 0
}